{
 "cells": [
  {
   "cell_type": "markdown",
   "metadata": {},
   "source": [
    "### Naive Bayes & Linear Gaussian Model for "
   ]
  },
  {
   "cell_type": "code",
   "execution_count": 152,
   "metadata": {},
   "outputs": [],
   "source": [
    "import numpy as np \n",
    "import math\n"
   ]
  },
  {
   "cell_type": "markdown",
   "metadata": {},
   "source": [
    "#### Auxiliary functions"
   ]
  },
  {
   "cell_type": "code",
   "execution_count": 153,
   "metadata": {},
   "outputs": [],
   "source": [
    "# Skeleton definition\n",
    "NUI_SKELETON_POSITION_COUNT = 20\n",
    "\n",
    "NONE = -1\n",
    "HIP_CENTER = 0\n",
    "SPINE = 1\n",
    "SHOULDER_CENTER = 2\n",
    "HEAD = 3\n",
    "SHOULDER_LEFT = 4\n",
    "ELBOW_LEFT = 5\n",
    "WRIST_LEFT = 6\n",
    "HAND_LEFT = 7\n",
    "SHOULDER_RIGHT = 8\n",
    "ELBOW_RIGHT = 9\n",
    "WRIST_RIGHT = 10\n",
    "HAND_RIGHT = 11\n",
    "HIP_LEFT = 12\n",
    "KNEE_LEFT = 13\n",
    "ANKLE_LEFT = 14\n",
    "FOOT_LEFT = 15\n",
    "HIP_RIGHT = 16\n",
    "KNEE_RIGHT = 17\n",
    "ANKLE_RIGHT = 18\n",
    "FOOT_RIGHT = 19\n",
    "\n",
    "nui_skeleton_names = ( \\\n",
    "    'HIP_CENTER', 'SPINE', 'SHOULDER_CENTER', 'HEAD', \\\n",
    "    'SHOULDER_LEFT', 'ELBOW_LEFT', 'WRIST_LEFT', 'HAND_LEFT', \\\n",
    "    'SHOULDER_RIGHT', 'ELBOW_RIGHT', 'WRIST_RIGHT', 'HAND_RIGHT', \\\n",
    "    'HIP_LEFT', 'KNEE_LEFT', 'ANKLE_LEFT', 'FOOT_LEFT', \\\n",
    "    'HIP_RIGHT', 'KNEE_RIGHT', 'ANKLE_RIGHT', 'FOOT_RIGHT' )\n",
    "\n",
    "nui_skeleton_conn = ( \\\n",
    "    NONE, \\\n",
    "    HIP_CENTER, \\\n",
    "    SPINE, \\\n",
    "    SHOULDER_CENTER, \\\n",
    "    # Left arm \n",
    "    SHOULDER_CENTER, \\\n",
    "    SHOULDER_LEFT,  \\\n",
    "    ELBOW_LEFT,  \\\n",
    "    WRIST_LEFT,  \\\n",
    "    # Right arm \n",
    "    SHOULDER_CENTER,  \\\n",
    "    SHOULDER_RIGHT,  \\\n",
    "    ELBOW_RIGHT,  \\\n",
    "    WRIST_RIGHT,  \\\n",
    "    # Left leg \n",
    "    HIP_CENTER,  \\\n",
    "    HIP_LEFT,  \\\n",
    "    KNEE_LEFT,  \\\n",
    "    ANKLE_LEFT,  \\\n",
    "    # Right leg \n",
    "    HIP_CENTER,  \\\n",
    "    HIP_RIGHT,  \\\n",
    "    KNEE_RIGHT,  \\\n",
    "    ANKLE_RIGHT,  \\\n",
    ")\n"
   ]
  },
  {
   "cell_type": "code",
   "execution_count": 154,
   "metadata": {},
   "outputs": [],
   "source": [
    "log_c=0"
   ]
  },
  {
   "cell_type": "code",
   "execution_count": 155,
   "metadata": {},
   "outputs": [],
   "source": [
    "def load_dataset(file=None):\n",
    "    \"\"\"\n",
    "      Returns the data, the labels and the person id for each action\n",
    "    \"\"\"\n",
    "    import scipy.io\n",
    "    \n",
    "    if file is None:\n",
    "        ex = scipy.io.loadmat('data/data.mat')\n",
    "    else:\n",
    "        ex = scipy.io.loadmat(file)\n",
    "    \n",
    "    return ex['data'],ex['labels'],ex['individuals']\n",
    "    "
   ]
  },
  {
   "cell_type": "code",
   "execution_count": 156,
   "metadata": {},
   "outputs": [],
   "source": [
    "def load_dataset_val(file=None):\n",
    "    \"\"\"\n",
    "      Loads Validation data.\n",
    "      Returns the data, the labels and the person id for each action\n",
    "    \"\"\"\n",
    "    import scipy.io\n",
    "    \n",
    "    if file is None:\n",
    "        ex = scipy.io.loadmat('data/validation_data.mat')\n",
    "    else:\n",
    "        ex = scipy.io.loadmat(file)\n",
    "    \n",
    "    return ex['data_small'],ex['labels_small'],ex['individuals_small']\n",
    "    "
   ]
  },
  {
   "cell_type": "code",
   "execution_count": 157,
   "metadata": {},
   "outputs": [],
   "source": [
    "def log_normpdf(x, mu, sigma):\n",
    "    \n",
    "    pdf=((-0.5*np.log(2*np.pi*sigma))-(pow((x-mu),2)/(2*sigma))) \n",
    "    \n",
    "    \"\"\"\n",
    "      Computes the natural logarithm of the normal probability density function\n",
    "      \n",
    "    \"\"\"\n",
    "    return pdf\n"
   ]
  },
  {
   "cell_type": "code",
   "execution_count": 158,
   "metadata": {},
   "outputs": [],
   "source": [
    "def normalize_logprobs(log_probs):\n",
    "    \"\"\"\n",
    "       Returns the log prob normalizes so that when exponenciated\n",
    "       it adds up to 1 (Useful to normalizes logprobs)\n",
    "    \"\"\" \n",
    "    b = log_probs.max()\n",
    "    y = np.exp(log_probs - b)\n",
    "    return y / y.sum()\n"
   ]
  },
  {
   "cell_type": "code",
   "execution_count": 159,
   "metadata": {},
   "outputs": [],
   "source": [
    "def calculatePrior(labels):\n",
    "    '''\n",
    "    Calculates the Prior Probability.\n",
    "    '''\n",
    "    unique, counts = np.unique(labels, return_counts=True)\n",
    "    priorProb=counts/labels.size;\n",
    "    return priorProb\n",
    "    "
   ]
  },
  {
   "cell_type": "code",
   "execution_count": 160,
   "metadata": {},
   "outputs": [],
   "source": [
    "def EdYx(Y,X):\n",
    "    '''Helper function to multiply and sum up two vectors (Expected Values)'''\n",
    "    return np.mean(Y*X)\n"
   ]
  },
  {
   "cell_type": "markdown",
   "metadata": {},
   "source": [
    "#### Function for encoding the Labels "
   ]
  },
  {
   "cell_type": "code",
   "execution_count": 221,
   "metadata": {},
   "outputs": [],
   "source": [
    "def label_encode(r):\n",
    "    \n",
    "    index = np.argmax(r, axis=0)\n",
    "\n",
    "    if index==0:\n",
    "        pred=1\n",
    "    elif(index==1):\n",
    "        pred=2\n",
    "    elif(index==2):\n",
    "        pred=3\n",
    "    elif(index==3):\n",
    "        pred=8\n",
    "    else:\n",
    "        raise ValueError('Index is not correct')\n",
    "    \n",
    "    return pred"
   ]
  },
  {
   "cell_type": "markdown",
   "metadata": {},
   "source": [
    "#### Functions to implement"
   ]
  },
  {
   "cell_type": "code",
   "execution_count": 162,
   "metadata": {},
   "outputs": [],
   "source": [
    "def fit_gaussian(X, W=None):\n",
    "    \n",
    "    mean=np.mean(X)\n",
    "    variance=np.var(X)\n",
    "    \n",
    "    \"\"\"\n",
    "      Compute the mean and variance of X, \n",
    "      You can ignore W for the moment\n",
    "    \"\"\"\n",
    "    return (mean, variance)\n"
   ]
  },
  {
   "cell_type": "code",
   "execution_count": 163,
   "metadata": {},
   "outputs": [],
   "source": [
    "def my_cov(x,y,w=None):\n",
    "    \"\"\"\n",
    "      Useful function for fit_linear_gaussian\n",
    "    \"\"\"\n",
    "    #cov=EdYx(x,y)-np.mean(x)*np.mean(y)\n",
    "    cov=np.sum(w*x*y)/np.sum(w)-np.sum(w*x)*np.sum(w*y)/np.sum(w)/np.sum(w)\n",
    "\n",
    "    return cov"
   ]
  },
  {
   "cell_type": "markdown",
   "metadata": {},
   "source": [
    "#### Calculate Betas and Sigma for LGM model "
   ]
  },
  {
   "cell_type": "code",
   "execution_count": 164,
   "metadata": {},
   "outputs": [],
   "source": [
    "def fit_linear_gaussian(Y,X,W = None):\n",
    "    \"\"\"\n",
    "    Input:\n",
    "      Y: vector of size D with the observations for the variable\n",
    "      X: matrix DxV with the observations for the parent variables\n",
    "                 of X. V is the number of parent variables\n",
    "      W: vector of size D with the weights of the instances (ignore for the moment)\n",
    "      \n",
    "    Outout:\n",
    "       The betas and sigma\n",
    "    \"\"\"\n",
    "    \n",
    "    # Create Vector B for expected values of observed variables \n",
    "    B=[]\n",
    "    B.append(np.mean(Y))\n",
    "    \n",
    "    for i in range (X.shape[1]):\n",
    "        B.append(EdYx(Y,X[:,i]))\n",
    "    B=np.array(B)\n",
    "    \n",
    "    #Create Matrix A for expected values of the parents\n",
    "    A = np.zeros(shape=(4, 4), dtype=float)\n",
    "    A[0][0]=1\n",
    "    for i in range (1,A.shape[1]):\n",
    "        A[i][0]=np.mean(X[:,i-1])\n",
    "        A[0][i]=np.mean(X[:,i-1])\n",
    "\n",
    "    for i in range (1,A.shape[1]):\n",
    "        for j in range(1,A.shape[1]):     \n",
    "            A[i][j]=EdYx(X[:,i-1],X[:,j-1])\n",
    "    \n",
    "    \n",
    "    #Calculate the betas\n",
    "    betas = np.linalg.solve(A,B)\n",
    "    \n",
    "    temp=0\n",
    "    #create vector containing ones for weights\n",
    "    w=np.ones(shape=(X.shape[0]))\n",
    "   \n",
    "    # Calculate sigmas\n",
    "    for i in range (1,X.shape[1]+1):\n",
    "        for j in range(1,X.shape[1]+1):     \n",
    "            temp=temp+(betas[i]*betas[j]*my_cov(X[:,i-1],X[:,j-1],w))\n",
    "        \n",
    "    cov= my_cov(Y,Y,w)\n",
    "    sigma= np.sqrt(cov-temp)                                                       \n",
    "                                                                                \n",
    "    if sigma == 0 or type(sigma) == 'complex':                                   \n",
    "        sigma = .01                                                              \n",
    "    else:                                                                        \n",
    "        sigma = sigma + .01                                                      \n",
    "                                                                                \n",
    "    sigma = sigma**2                                                                                                                                         \n",
    "    \n",
    "    return (betas,sigma)"
   ]
  },
  {
   "cell_type": "markdown",
   "metadata": {},
   "source": [
    "#### Function to Check the fit_linear_gaussian Implementation"
   ]
  },
  {
   "cell_type": "code",
   "execution_count": 165,
   "metadata": {},
   "outputs": [
    {
     "name": "stdout",
     "output_type": "stream",
     "text": [
      "Output betas From fit_linear_gaussian function [10.05948322 12.02037086  3.96332739 15.99609114]\n",
      "Output sigma From fit_linear_gaussian function 0.009760894687608095\n"
     ]
    }
   ],
   "source": [
    "def generate_random_lgm_samples(n, betas, sigma):\n",
    "    \"\"\"Function to generate random samples for a \n",
    "       Linear Gaussian Model\n",
    "       Input:\n",
    "           n: Number of samples\n",
    "           betas: vector with the values the the betas from 0 to k\n",
    "           sigma: standard deviation\n",
    "    \"\"\"\n",
    "    X = np.random.randn(n,betas.shape[0]-1)\n",
    "    Y = np.random.randn(n)*sigma + np.sum(X*betas[1:],axis=1)+betas[0]\n",
    "    return X,Y\n",
    "\n",
    "betas = np.array([10,12,4,16])\n",
    "sigma = 0.1\n",
    "n=10\n",
    "X,Y=generate_random_lgm_samples(n,betas,sigma)\n",
    "# This following call should output  betas and sigma close to the above ones\n",
    "\n",
    "betas, sigma=fit_linear_gaussian(Y,X)\n",
    "print('Output betas From fit_linear_gaussian function',betas)\n",
    "print('Output sigma From fit_linear_gaussian function',sigma)\n"
   ]
  },
  {
   "cell_type": "markdown",
   "metadata": {},
   "source": [
    " #### Function for insolating the individual Class"
   ]
  },
  {
   "cell_type": "code",
   "execution_count": 166,
   "metadata": {},
   "outputs": [],
   "source": [
    "def isolate_classes(data,label):\n",
    "\n",
    "\n",
    "    idx=[]\n",
    "    #checks the number of unique class in the dataset and Creates index lists for different classes\n",
    "    for c in np.unique(label):\n",
    "        idx.append(np.where(label==c))\n",
    "\n",
    "    c1=np.zeros((data.shape[0],data.shape[1],len(idx[0][0])))\n",
    "    for i in range (len(idx[0][0])):\n",
    "        c1[:,:,i]=data[:,:,idx[0][0][i]]\n",
    "\n",
    "\n",
    "    c2=np.zeros((data.shape[0],data.shape[1],len(idx[1][0])))\n",
    "    for i in range (len(idx[1][0])):\n",
    "        c2[:,:,i]=data[:,:,idx[1][0][i]]\n",
    "\n",
    "    c3=np.zeros((data.shape[0],data.shape[1],len(idx[2][0])))\n",
    "    for i in range (len(idx[2][0])):\n",
    "        c3[:,:,i]=data[:,:,idx[2][0][i]]\n",
    "\n",
    "    c4=np.zeros((data.shape[0],data.shape[1],len(idx[3][0])))\n",
    "    for i in range (len(idx[3][0])):\n",
    "        c4[:,:,i]=data[:,:,idx[3][0][i]]\n",
    "\n",
    "    #returns the list of classes\n",
    "    class_list=[c1,c2,c3,c4]\n",
    "\n",
    "    return class_list"
   ]
  },
  {
   "cell_type": "markdown",
   "metadata": {},
   "source": [
    " #### Class for LGM model"
   ]
  },
  {
   "cell_type": "code",
   "execution_count": 167,
   "metadata": {},
   "outputs": [],
   "source": [
    "class model_lgm:\n",
    "    def __init__(self,graph):\n",
    "        self.data=data\n",
    "        self.label=label\n",
    "        self.graph=graph\n",
    "        self.class_priors=None\n",
    "        self.jointparts_mean=None\n",
    "        self.jointparts_var=None\n",
    "        self.jointparts_betas=None\n",
    "    \n",
    "    def train(self,data,label):\n",
    "        #Calculate Class prior\n",
    "        self.class_priors= calculatePrior(label)\n",
    "        #Isolate the classes \n",
    "        all_class= isolate_classes(data,label)\n",
    "\n",
    "        #Declare necessary matrices for lgm model \n",
    "        self.jointparts_mean=np.zeros(shape=(data.shape[0]-19,data.shape[1],len(all_class)))\n",
    "        self.jointparts_betas=np.zeros(shape=(data.shape[0],data.shape[1],data.shape[1]+1,len(all_class)))\n",
    "        self.jointparts_var=np.zeros(shape=(data.shape[0],data.shape[1],len(all_class)))\n",
    "\n",
    "        '''\n",
    "        Each class has the shape Joint*Dimension*#instances belong to that class.\n",
    "        Following loop iterates over each class , each joint and each dimension(x,y,z)\n",
    "        and Computes betas and sigma.\n",
    "        \n",
    "        ***PLEASE NOTE THAT FIRST POSITION OF JOINTPART_BETAS MATRIX IS EMPTY DUE TO NOT HAVING PARENT FOT\n",
    "        *** 1ST JOINT.\n",
    "        '''\n",
    "        for c in range(len(all_class)):\n",
    "            cl=all_class[c]\n",
    "            for i in range (cl.shape[1]):\n",
    "                self.jointparts_mean[0,i,c],self.jointparts_var[0,i,c]=fit_gaussian(cl[0,i,:])\n",
    "                for j in range(cl.shape[0]-1):\n",
    "                    Y=cl[j+1,i,:].transpose()\n",
    "                    X=cl[nui_skeleton_conn[j+1],:,:].transpose()\n",
    "                    self.jointparts_betas[j+1,i,c],self.jointparts_var[j+1][i][c]=fit_linear_gaussian(Y,X)\n",
    "    \n",
    "    \n",
    "    def predict(self,data):\n",
    "        y_pred=[]\n",
    "        for i in range(data.shape[2]):\n",
    "            pp=self.compute_logprobs(data[:,:,i])+np.log(self.class_priors)\n",
    "            r=normalize_logprobs(pp)\n",
    "            y_pred.append(label_encode(r))\n",
    "        y_pred=np.array(y_pred)\n",
    "        return y_pred\n",
    "\n",
    "    \n",
    "    \n",
    "    def compute_logprobs(self,instance):\n",
    "    \n",
    "        '''\n",
    "        Each instance has the shape of Joint*Dimension.\n",
    "        Following loop iterates over each class , each joint and each dimension(x,y,z)\n",
    "        and calculate log likelihood for each class of the instance.\n",
    "        \n",
    "        \n",
    "        '''\n",
    "        likelihood=[]\n",
    "        \n",
    "\n",
    "        ci=0\n",
    "        for c in range (self.jointparts_var.shape[2]):\n",
    "            temp=0\n",
    "            for j in range (self.jointparts_var.shape[1]):\n",
    "                temp=temp+log_normpdf(instance[0,j],self.jointparts_mean[0,j,c],self.jointparts_var[0,j,c])        \n",
    "                for i in range (1,self.jointparts_var.shape[0]):\n",
    "                    mn=sum(self.jointparts_betas[i,j,c,1:4]*instance[self.graph[i],:] )+self.jointparts_betas[i,j,c,0]                   \n",
    "                    temp=temp+log_normpdf(instance[i][j],mn,self.jointparts_var[i][j][c])\n",
    "            likelihood.append(temp)\n",
    "        return likelihood\n"
   ]
  },
  {
   "cell_type": "markdown",
   "metadata": {},
   "source": [
    " #### Class for NB model"
   ]
  },
  {
   "cell_type": "code",
   "execution_count": 168,
   "metadata": {},
   "outputs": [],
   "source": [
    "class model_nb:\n",
    "    def __init__(self):\n",
    "        self.class_priors=None\n",
    "        jointparts_mean=None\n",
    "        jointparts_var=None\n",
    "    \n",
    "    \n",
    "    \n",
    "    \n",
    "    def train(self,data,label):\n",
    "        \n",
    "        all_class= isolate_classes(data,label)\n",
    "        self.jointparts_mean=np.zeros(shape=(data.shape[0],data.shape[1],len(all_class)))\n",
    "        self.jointparts_var=np.zeros(shape=(data.shape[0],data.shape[1],len(all_class)))\n",
    "        self.class_priors=calculatePrior(label)\n",
    "        \n",
    "        '''\n",
    "        Each class has the shape Joint*Dimension*#instances belong to that class.\n",
    "        Following loop iterates over each class , each joint and each dimension(x,y,z)\n",
    "        and Computes betas and sigma.\n",
    "        '''\n",
    "        for c in range(len(all_class)):\n",
    "            cl=all_class[c]\n",
    "            for j in range (cl.shape[0]):\n",
    "                for i in range(cl.shape[1]):\n",
    "                    self.jointparts_mean[j,i,c],self.jointparts_var[j,i,c]=fit_gaussian(cl[j,i,:])\n",
    "    \n",
    "    def predict(self,data):\n",
    "        y_pred=[]\n",
    "        for i in range(data.shape[2]):\n",
    "            pp=self.compute_logprobs(data[:,:,i])+np.log(self.class_priors)\n",
    "            r=normalize_logprobs(pp)\n",
    "            y_pred.append(label_encode(r))\n",
    "        y_pred=np.array(y_pred)\n",
    "        return y_pred\n",
    "    \n",
    "    def compute_logprobs(self,instance):\n",
    "\n",
    "        '''\n",
    "        Each instance has the shape of Joint*Dimension.\n",
    "        Following loop iterates over each class , each joint and each dimension(x,y,z)\n",
    "        and calculate log likelihood for each class of the instance.\n",
    "        '''\n",
    "        likelihood=[]\n",
    "        for c in range (self.jointparts_mean.shape[2]):\n",
    "            temp=0\n",
    "            for j in range (self.jointparts_mean.shape[1]):\n",
    "                for i in range (self.jointparts_mean.shape[0]):        \n",
    "                    temp=temp+log_normpdf(instance[i][j],self.jointparts_mean[i][j][c],self.jointparts_var[i][j][c])\n",
    "            likelihood.append(temp)\n",
    "\n",
    "        return likelihood\n"
   ]
  },
  {
   "cell_type": "markdown",
   "metadata": {},
   "source": [
    "### Learn Appropiate model Depending on graph supplied or not "
   ]
  },
  {
   "cell_type": "code",
   "execution_count": 169,
   "metadata": {},
   "outputs": [],
   "source": [
    "def learn_model(dataset, labels, G=None):\n",
    "    if G is not None:\n",
    "        classifier=model_lgm(G)\n",
    "        classifier.train(dataset,labels)\n",
    "    else:\n",
    "        classifier=model_nb()\n",
    "        classifier.train(dataset,labels)\n",
    "    return classifier"
   ]
  },
  {
   "cell_type": "markdown",
   "metadata": {},
   "source": [
    "### Utility Function to Generate Result "
   ]
  },
  {
   "cell_type": "markdown",
   "metadata": {},
   "source": [
    "#### Function for calculating the accuracy"
   ]
  },
  {
   "cell_type": "code",
   "execution_count": 171,
   "metadata": {},
   "outputs": [],
   "source": [
    "def calculateAccuracy(prediction,groundTruth):\n",
    "    acc=sum(prediction==groundTruth[:,0])\n",
    "    acc=acc/len(prediction)*100\n",
    "    return acc\n"
   ]
  },
  {
   "cell_type": "markdown",
   "metadata": {},
   "source": [
    "#### Function for Cross validation"
   ]
  },
  {
   "cell_type": "code",
   "execution_count": 172,
   "metadata": {},
   "outputs": [],
   "source": [
    "def cv(model,data,label,fold):\n",
    "    from sklearn.model_selection import KFold\n",
    "    import matplotlib.pyplot as plt\n",
    "    data=data.transpose()\n",
    "    data=data\n",
    "    kf = KFold(n_splits=fold,shuffle=True)\n",
    "    accuracy=[]\n",
    "    k=0\n",
    "    for train_index, test_index in kf.split(data):\n",
    "        data_train, data_test = data[train_index], data[test_index]   \n",
    "        label_train, label_test = label[train_index], label[test_index]\n",
    "        data_train=data_train.transpose()\n",
    "        data_test=data_test.transpose()\n",
    "        model.train(data_train,label_train)\n",
    "        pred=model.predict(data_test)\n",
    "        acc=calculateAccuracy(pred,label_test)\n",
    "        accuracy.append(acc)\n",
    "        k+=1\n",
    "        print(\"Fold:\",(k) ,\" Accuracy:\",acc)\n",
    "    avg_accuracy=np.mean(accuracy)\n",
    "    \n",
    "    _,axes = plt.subplots(1, 1, figsize=(7, 3))\n",
    "    axes.set_xlim((0, len(accuracy)-1))\n",
    "    axes.set_ylim((80, 100))\n",
    "    axes.set_title(\"Cross-validation score\")\n",
    "    axes.plot(accuracy,'o-', color=\"r\",\n",
    "                     label=\"Cross-validation score\")\n",
    "    axes.set_xlabel('Fold', fontsize=14)\n",
    "    axes.set_ylabel('Accuracy', fontsize=14)\n",
    "    \n",
    "    plt.show()\n",
    "    print(\"Average Accuracy:\",avg_accuracy)\n",
    "    \n",
    "    return accuracy,avg_accuracy\n",
    "\n",
    "    "
   ]
  },
  {
   "cell_type": "markdown",
   "metadata": {},
   "source": [
    "#### Function for Generating Confusion Matrix"
   ]
  },
  {
   "cell_type": "code",
   "execution_count": 215,
   "metadata": {},
   "outputs": [],
   "source": [
    "def generateClassificationReport(prediction,groundTruth):\n",
    "    from sklearn.metrics import confusion_matrix\n",
    "    from mlxtend.plotting import plot_confusion_matrix\n",
    "    import matplotlib.pyplot as plt\n",
    "    from sklearn.metrics import classification_report\n",
    "    \n",
    "    class_names = ['crouch', 'right arm extended','left arm extended' ,' both arms lifted']\n",
    "    print(classification_report(prediction,groundTruth, target_names=class_names))\n",
    "    cf=confusion_matrix(groundTruth[:,0],prediction)\n",
    "    fig, ax = plot_confusion_matrix(conf_mat=cf,\n",
    "                                    show_absolute=True,\n",
    "                                    show_normed=True,\n",
    "                                    colorbar=True,\n",
    "                                    class_names=class_names)\n",
    "    \n",
    "    plt.show()\n",
    "    \n",
    "    "
   ]
  },
  {
   "cell_type": "code",
   "execution_count": 174,
   "metadata": {},
   "outputs": [],
   "source": [
    "#load dataset\n",
    "data,label,ind=load_dataset()\n",
    "val_data,val_label,val_ind=load_dataset_val()\n"
   ]
  },
  {
   "cell_type": "markdown",
   "metadata": {},
   "source": [
    "### Create a Naive bayes Classifier and Test Performance"
   ]
  },
  {
   "cell_type": "code",
   "execution_count": 220,
   "metadata": {},
   "outputs": [
    {
     "name": "stdout",
     "output_type": "stream",
     "text": [
      "Fold: 1  Accuracy: 93.1740614334471\n",
      "Fold: 2  Accuracy: 95.8904109589041\n",
      "Fold: 3  Accuracy: 96.91780821917808\n",
      "Fold: 4  Accuracy: 95.2054794520548\n",
      "Fold: 5  Accuracy: 95.2054794520548\n",
      "Fold: 6  Accuracy: 94.52054794520548\n",
      "Fold: 7  Accuracy: 94.52054794520548\n"
     ]
    },
    {
     "data": {
      "image/png": "[encoded data removed]",
      "text/plain": [
       "<Figure size 504x216 with 1 Axes>"
      ]
     },
     "metadata": {
      "needs_background": "light"
     },
     "output_type": "display_data"
    },
    {
     "name": "stdout",
     "output_type": "stream",
     "text": [
      "Average Accuracy: 95.06204791514999\n",
      "Accuracy on Validation Data: 95.83333333333334\n",
      "                    precision    recall  f1-score   support\n",
      "\n",
      "            crouch       0.97      1.00      0.98        29\n",
      "right arm extended       1.00      1.00      1.00        30\n",
      " left arm extended       0.93      0.93      0.93        30\n",
      "  both arms lifted       0.93      0.90      0.92        31\n",
      "\n",
      "          accuracy                           0.96       120\n",
      "         macro avg       0.96      0.96      0.96       120\n",
      "      weighted avg       0.96      0.96      0.96       120\n",
      "\n"
     ]
    },
    {
     "data": {
      "image/png": "[encoded data removed]",
      "text/plain": [
       "<Figure size 432x288 with 2 Axes>"
      ]
     },
     "metadata": {
      "needs_background": "light"
     },
     "output_type": "display_data"
    }
   ],
   "source": [
    "clf=model_nb()\n",
    "avg_acc,acc=cv(clf,data,label,7)\n",
    "pred=clf.predict(val_data)\n",
    "result=calculateAccuracy(pred,val_label)\n",
    "print('Accuracy on Validation Data:',result)\n",
    "generateClassificationReport(pred,val_label)"
   ]
  },
  {
   "cell_type": "markdown",
   "metadata": {},
   "source": [
    "### Create a Linear Gaussian Model Classifier and Test Performance"
   ]
  },
  {
   "cell_type": "code",
   "execution_count": 218,
   "metadata": {},
   "outputs": [
    {
     "name": "stdout",
     "output_type": "stream",
     "text": [
      "Fold: 1  Accuracy: 99.65870307167235\n",
      "Fold: 2  Accuracy: 99.65753424657534\n",
      "Fold: 3  Accuracy: 99.31506849315068\n",
      "Fold: 4  Accuracy: 99.65753424657534\n",
      "Fold: 5  Accuracy: 99.65753424657534\n",
      "Fold: 6  Accuracy: 99.31506849315068\n",
      "Fold: 7  Accuracy: 99.31506849315068\n"
     ]
    },
    {
     "data": {
      "image/png": "[encoded data removed]",
      "text/plain": [
       "<Figure size 504x216 with 1 Axes>"
      ]
     },
     "metadata": {
      "needs_background": "light"
     },
     "output_type": "display_data"
    },
    {
     "name": "stdout",
     "output_type": "stream",
     "text": [
      "Average Accuracy: 99.5109301844072\n",
      "Accuracy on Validation Data: 100.0\n",
      "                    precision    recall  f1-score   support\n",
      "\n",
      "            crouch       1.00      1.00      1.00        30\n",
      "right arm extended       1.00      1.00      1.00        30\n",
      " left arm extended       1.00      1.00      1.00        30\n",
      "  both arms lifted       1.00      1.00      1.00        30\n",
      "\n",
      "          accuracy                           1.00       120\n",
      "         macro avg       1.00      1.00      1.00       120\n",
      "      weighted avg       1.00      1.00      1.00       120\n",
      "\n"
     ]
    },
    {
     "data": {
      "image/png": "[encoded data removed]",
      "text/plain": [
       "<Figure size 432x288 with 2 Axes>"
      ]
     },
     "metadata": {
      "needs_background": "light"
     },
     "output_type": "display_data"
    }
   ],
   "source": [
    "\n",
    "clf=model_lgm(nui_skeleton_conn)\n",
    "avg_acc,acc=cv(clf,data,label,7)\n",
    "pred=clf.predict(val_data)\n",
    "result=calculateAccuracy(pred,val_label)\n",
    "print('Accuracy on Validation Data:',result)\n",
    "generateClassificationReport(pred,val_label)"
   ]
  },
  {
   "cell_type": "markdown",
   "metadata": {},
   "source": [
    "### Compare with Validation Data"
   ]
  },
  {
   "cell_type": "code",
   "execution_count": 210,
   "metadata": {},
   "outputs": [
    {
     "name": "stdout",
     "output_type": "stream",
     "text": [
      "Expected model(NB) accuracy [[95.]]\n",
      "Our model(NB) accuracy 95.0\n",
      "Expected model(LGM) accuracy [[97.5]]\n",
      "Our model(LGM) accuracy 97.5\n"
     ]
    }
   ],
   "source": [
    "import scipy.io\n",
    "import numpy as np\n",
    "\n",
    "d = scipy.io.loadmat('data/validation_data.mat')\n",
    "\n",
    "data_small        = d['data_small']\n",
    "labels_small      = d['labels_small']\n",
    "individuals_small = d['individuals_small'].squeeze()\n",
    "train_indexes     = np.array(d['train_indexes'].squeeze(),dtype=bool)\n",
    "test_indexes      = np.array(d['test_indexes'].squeeze(),dtype=bool)\n",
    "model_n         = d['model_nb']\n",
    "model_lg          = d['model_lg']\n",
    "accur_lg          = d['accur_lg']\n",
    "accur_nb          = d['accur_nb']\n",
    "\n",
    "#Define NB model and compare with the provided result\n",
    "NB=model_nb()\n",
    "NB.train(data_small[:,:,train_indexes],labels_small[train_indexes][:])\n",
    "pred_nb=NB.predict(data_small[:,:,test_indexes])\n",
    "acc=calculateAccuracy(pred_nb,labels_small[test_indexes])\n",
    "print(\"Expected model(NB) accuracy\",accur_nb*100)\n",
    "print(\"Our model(NB) accuracy\",acc)\n",
    "\n",
    "#Define LGM model and compare with the provided result\n",
    "LGM=model_lgm(nui_skeleton_conn)\n",
    "LGM.train(data_small[:,:,train_indexes],labels_small[train_indexes])\n",
    "pred_lgm=LGM.predict(data_small[:,:,test_indexes])\n",
    "acc=calculateAccuracy(pred_lgm,labels_small[test_indexes])\n",
    "print(\"Expected model(LGM) accuracy\",accur_lg*100)\n",
    "print(\"Our model(LGM) accuracy\",acc)\n",
    "\n"
   ]
  },
  {
   "cell_type": "code",
   "execution_count": 217,
   "metadata": {},
   "outputs": [
    {
     "name": "stdout",
     "output_type": "stream",
     "text": [
      "Classification Report(NB) on Test Set \n",
      "                    precision    recall  f1-score   support\n",
      "\n",
      "            crouch       0.90      1.00      0.95         9\n",
      "right arm extended       1.00      1.00      1.00        10\n",
      " left arm extended       1.00      0.91      0.95        11\n",
      "  both arms lifted       0.90      0.90      0.90        10\n",
      "\n",
      "          accuracy                           0.95        40\n",
      "         macro avg       0.95      0.95      0.95        40\n",
      "      weighted avg       0.95      0.95      0.95        40\n",
      "\n"
     ]
    },
    {
     "data": {
      "image/png": "[encoded data removed]",
      "text/plain": [
       "<Figure size 432x288 with 2 Axes>"
      ]
     },
     "metadata": {
      "needs_background": "light"
     },
     "output_type": "display_data"
    }
   ],
   "source": [
    "print('Classification Report(NB) on Test Set ')\n",
    "generateClassificationReport(pred_nb,labels_small[test_indexes])"
   ]
  },
  {
   "cell_type": "code",
   "execution_count": 216,
   "metadata": {},
   "outputs": [
    {
     "name": "stdout",
     "output_type": "stream",
     "text": [
      "Classification Report(LGM) on Test Set \n",
      "                    precision    recall  f1-score   support\n",
      "\n",
      "            crouch       1.00      1.00      1.00        10\n",
      "right arm extended       1.00      1.00      1.00        10\n",
      " left arm extended       1.00      0.91      0.95        11\n",
      "  both arms lifted       0.90      1.00      0.95         9\n",
      "\n",
      "          accuracy                           0.97        40\n",
      "         macro avg       0.97      0.98      0.97        40\n",
      "      weighted avg       0.98      0.97      0.98        40\n",
      "\n"
     ]
    },
    {
     "data": {
      "image/png": "[encoded data removed]",
      "text/plain": [
       "<Figure size 432x288 with 2 Axes>"
      ]
     },
     "metadata": {
      "needs_background": "light"
     },
     "output_type": "display_data"
    }
   ],
   "source": [
    "print('Classification Report(LGM) on Test Set ')\n",
    "generateClassificationReport(pred_lgm,labels_small[test_indexes])"
   ]
  },
  {
   "cell_type": "code",
   "execution_count": null,
   "metadata": {},
   "outputs": [],
   "source": []
  }
 ],
 "metadata": {
  "kernelspec": {
   "display_name": "Python 3",
   "language": "python",
   "name": "python3"
  },
  "language_info": {
   "codemirror_mode": {
    "name": "ipython",
    "version": 3
   },
   "file_extension": ".py",
   "mimetype": "text/x-python",
   "name": "python",
   "nbconvert_exporter": "python",
   "pygments_lexer": "ipython3",
   "version": "3.7.6"
  }
 },
 "nbformat": 4,
 "nbformat_minor": 2
}